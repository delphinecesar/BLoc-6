{
 "cells": [
  {
   "cell_type": "code",
   "execution_count": null,
   "metadata": {},
   "outputs": [],
   "source": [
    "# 3_train_model\n",
    "\n",
    "# compiled data\n",
    "# process data for machine learning\n",
    "# train model\n",
    "# plot loss and metrics\n",
    "# save trained model"
   ]
  },
  {
   "cell_type": "code",
   "execution_count": null,
   "metadata": {},
   "outputs": [
    {
     "name": "stderr",
     "output_type": "stream",
     "text": [
      "2023-04-04 17:47:48.933419: I tensorflow/core/platform/cpu_feature_guard.cc:182] This TensorFlow binary is optimized to use available CPU instructions in performance-critical operations.\n",
      "To enable the following instructions: AVX2 FMA, in other operations, rebuild TensorFlow with the appropriate compiler flags.\n"
     ]
    }
   ],
   "source": [
    "# import libraries\n",
    "\n",
    "import numpy as np\n",
    "\n",
    "from sklearn.model_selection import train_test_split\n",
    "from sklearn.preprocessing import LabelEncoder\n",
    "\n",
    "import tensorflow as tf\n",
    "from tensorflow.keras.models import Sequential\n",
    "from tensorflow.keras.layers import Masking\n",
    "from tensorflow.keras.layers import GRU\n",
    "from tensorflow.keras.layers import Dropout\n",
    "from tensorflow.keras.layers import Dense\n",
    "from tensorflow.keras.layers import BatchNormalization\n",
    "from tensorflow.keras.layers import ReLU, Softmax\n",
    "from tensorflow.keras.activations import *\n",
    "from tensorflow.keras.losses import SparseCategoricalCrossentropy\n",
    "from tensorflow.keras.metrics import SparseCategoricalAccuracy\n",
    "from tensorflow.keras.optimizers.schedules import ExponentialDecay\n",
    "from tensorflow.keras.optimizers import Adam\n",
    "\n",
    "from plotly import graph_objects as go"
   ]
  },
  {
   "cell_type": "code",
   "execution_count": null,
   "metadata": {},
   "outputs": [],
   "source": [
    "# load data\n",
    "\n",
    "# directory were compiled data was saved\n",
    "path_from = \"/path_of_directory_where_compiled data_was_saved/\"\n",
    "\n",
    "# load data\n",
    "data = np.load(path_from + \"data.npy\")\n",
    "labels = np.load(path_from + \"labels.npy\")"
   ]
  },
  {
   "cell_type": "code",
   "execution_count": 8,
   "metadata": {},
   "outputs": [],
   "source": [
    "# reshape data to get a 3d array and 1 label per video\n",
    "\n",
    "data = data.reshape(int(data.shape[0]/50), 50, 1659)\n",
    "labels = labels[::50]"
   ]
  },
  {
   "cell_type": "code",
   "execution_count": 9,
   "metadata": {},
   "outputs": [],
   "source": [
    "# process data for machine learning\n",
    "\n",
    "# Split 80% in train 10% in val 10% in test\n",
    "X_train, X_valtest, y_train, y_valtest = train_test_split(data,\n",
    "                                                          labels,\n",
    "                                                          test_size=0.2,\n",
    "                                                          stratify=labels)\n",
    "X_val, X_test, y_val, y_test = train_test_split(X_valtest, y_valtest,\n",
    "                                                test_size=0.5,\n",
    "                                                stratify=y_valtest)\n",
    "\n",
    "# encode labels\n",
    "encoder = LabelEncoder()\n",
    "y_train = encoder.fit_transform(y_train)\n",
    "y_val = encoder.transform(y_val)\n",
    "y_test = encoder.transform(y_test)"
   ]
  },
  {
   "cell_type": "code",
   "execution_count": 10,
   "metadata": {},
   "outputs": [],
   "source": [
    "# make tensors\n",
    "\n",
    "train_ds = tf.data.Dataset.from_tensor_slices((X_train, y_train))\n",
    "val_ds = tf.data.Dataset.from_tensor_slices((X_val, y_val))\n",
    "test_ds = tf.data.Dataset.from_tensor_slices((X_test, y_test))"
   ]
  },
  {
   "cell_type": "code",
   "execution_count": 11,
   "metadata": {},
   "outputs": [],
   "source": [
    "# shuffle and batch\n",
    "\n",
    "train_ds = train_ds.shuffle(data.shape[0]).batch(512)\n",
    "val_ds = val_ds.batch(512)\n",
    "test_ds = test_ds.batch(512)"
   ]
  },
  {
   "cell_type": "code",
   "execution_count": 15,
   "metadata": {},
   "outputs": [],
   "source": [
    "# create model\n",
    "\n",
    "model = Sequential([\n",
    "    Masking(mask_value = 0),\n",
    "    GRU(128, return_sequences = True),\n",
    "    Dropout(0.2),\n",
    "    Dense(128, \"relu\"),\n",
    "    GRU(64, return_sequences = True),\n",
    "    Dropout(0.2),\n",
    "    Dense(64, \"relu\"),\n",
    "    GRU(32, return_sequences = False),\n",
    "    BatchNormalization(),\n",
    "    Dense(32, \"relu\"),\n",
    "    Dense(len(np.unique(labels)), \"softmax\")\n",
    "])"
   ]
  },
  {
   "cell_type": "code",
   "execution_count": 16,
   "metadata": {},
   "outputs": [],
   "source": [
    "# compile model\n",
    "\n",
    "ed = ExponentialDecay(\n",
    "    initial_learning_rate = 0.0008, \n",
    "    decay_steps = 10, \n",
    "    decay_rate = 0.98)\n",
    "\n",
    "optimizer = Adam(learning_rate = ed)\n",
    "\n",
    "model.compile(\n",
    "    optimizer,\n",
    "    loss = SparseCategoricalCrossentropy(),\n",
    "    metrics = [SparseCategoricalAccuracy()])"
   ]
  },
  {
   "cell_type": "code",
   "execution_count": 17,
   "metadata": {},
   "outputs": [
    {
     "name": "stdout",
     "output_type": "stream",
     "text": [
      "Epoch 1/100\n",
      "161/161 [==============================] - 78s 294ms/step - loss: 2.1067 - sparse_categorical_accuracy: 0.2633 - val_loss: 2.0599 - val_sparse_categorical_accuracy: 0.2712\n",
      "Epoch 2/100\n",
      "161/161 [==============================] - 61s 348ms/step - loss: 1.8999 - sparse_categorical_accuracy: 0.3441 - val_loss: 1.8342 - val_sparse_categorical_accuracy: 0.3702\n",
      "Epoch 3/100\n",
      "161/161 [==============================] - 79s 415ms/step - loss: 1.7506 - sparse_categorical_accuracy: 0.4026 - val_loss: 2.0874 - val_sparse_categorical_accuracy: 0.2814\n",
      "Epoch 4/100\n",
      "161/161 [==============================] - 77s 442ms/step - loss: 1.5839 - sparse_categorical_accuracy: 0.4685 - val_loss: 1.6062 - val_sparse_categorical_accuracy: 0.4645\n",
      "Epoch 5/100\n",
      "161/161 [==============================] - 75s 425ms/step - loss: 1.4784 - sparse_categorical_accuracy: 0.5063 - val_loss: 2.0068 - val_sparse_categorical_accuracy: 0.3905\n",
      "Epoch 6/100\n",
      "161/161 [==============================] - 78s 408ms/step - loss: 1.4062 - sparse_categorical_accuracy: 0.5321 - val_loss: 1.3520 - val_sparse_categorical_accuracy: 0.5378\n",
      "Epoch 7/100\n",
      "161/161 [==============================] - 70s 398ms/step - loss: 1.2943 - sparse_categorical_accuracy: 0.5655 - val_loss: 1.2943 - val_sparse_categorical_accuracy: 0.5604\n",
      "Epoch 8/100\n",
      "161/161 [==============================] - 70s 394ms/step - loss: 1.2480 - sparse_categorical_accuracy: 0.5798 - val_loss: 1.6811 - val_sparse_categorical_accuracy: 0.4108\n",
      "Epoch 9/100\n",
      "161/161 [==============================] - 69s 362ms/step - loss: 1.2097 - sparse_categorical_accuracy: 0.5957 - val_loss: 1.3784 - val_sparse_categorical_accuracy: 0.5495\n",
      "Epoch 10/100\n",
      "161/161 [==============================] - 51s 288ms/step - loss: 1.1717 - sparse_categorical_accuracy: 0.6161 - val_loss: 1.4774 - val_sparse_categorical_accuracy: 0.5292\n",
      "Epoch 11/100\n",
      "161/161 [==============================] - 54s 299ms/step - loss: 1.1435 - sparse_categorical_accuracy: 0.6178 - val_loss: 1.4556 - val_sparse_categorical_accuracy: 0.5370\n",
      "Epoch 12/100\n",
      "161/161 [==============================] - 59s 300ms/step - loss: 1.1126 - sparse_categorical_accuracy: 0.6261 - val_loss: 1.3419 - val_sparse_categorical_accuracy: 0.5425\n",
      "Epoch 13/100\n",
      "161/161 [==============================] - 50s 283ms/step - loss: 1.0965 - sparse_categorical_accuracy: 0.6343 - val_loss: 2.5119 - val_sparse_categorical_accuracy: 0.2907\n",
      "Epoch 14/100\n",
      "161/161 [==============================] - 50s 279ms/step - loss: 1.0393 - sparse_categorical_accuracy: 0.6437 - val_loss: 1.5815 - val_sparse_categorical_accuracy: 0.4840\n",
      "Epoch 15/100\n",
      "161/161 [==============================] - 53s 276ms/step - loss: 1.0038 - sparse_categorical_accuracy: 0.6603 - val_loss: 1.5395 - val_sparse_categorical_accuracy: 0.4949\n",
      "Epoch 16/100\n",
      "161/161 [==============================] - 50s 279ms/step - loss: 0.9706 - sparse_categorical_accuracy: 0.6725 - val_loss: 1.4718 - val_sparse_categorical_accuracy: 0.5323\n",
      "Epoch 17/100\n",
      "161/161 [==============================] - 50s 278ms/step - loss: 0.9645 - sparse_categorical_accuracy: 0.6737 - val_loss: 3.6160 - val_sparse_categorical_accuracy: 0.3172\n",
      "Epoch 18/100\n",
      "161/161 [==============================] - 51s 274ms/step - loss: 0.9398 - sparse_categorical_accuracy: 0.6855 - val_loss: 0.8712 - val_sparse_categorical_accuracy: 0.7023\n",
      "Epoch 19/100\n",
      "161/161 [==============================] - 49s 277ms/step - loss: 0.9033 - sparse_categorical_accuracy: 0.6941 - val_loss: 1.0570 - val_sparse_categorical_accuracy: 0.6485\n",
      "Epoch 20/100\n",
      "161/161 [==============================] - 50s 281ms/step - loss: 0.8977 - sparse_categorical_accuracy: 0.6939 - val_loss: 1.7321 - val_sparse_categorical_accuracy: 0.4949\n",
      "Epoch 21/100\n",
      "161/161 [==============================] - 51s 275ms/step - loss: 0.8925 - sparse_categorical_accuracy: 0.6964 - val_loss: 1.7670 - val_sparse_categorical_accuracy: 0.4466\n",
      "Epoch 22/100\n",
      "161/161 [==============================] - 49s 272ms/step - loss: 0.8691 - sparse_categorical_accuracy: 0.7038 - val_loss: 1.3264 - val_sparse_categorical_accuracy: 0.5744\n",
      "Epoch 23/100\n",
      "161/161 [==============================] - 48s 273ms/step - loss: 0.8599 - sparse_categorical_accuracy: 0.7069 - val_loss: 2.4225 - val_sparse_categorical_accuracy: 0.4170\n",
      "Epoch 24/100\n",
      "161/161 [==============================] - 49s 274ms/step - loss: 0.8534 - sparse_categorical_accuracy: 0.7095 - val_loss: 1.2442 - val_sparse_categorical_accuracy: 0.5721\n",
      "Epoch 25/100\n",
      "161/161 [==============================] - 51s 273ms/step - loss: 0.8264 - sparse_categorical_accuracy: 0.7162 - val_loss: 1.3595 - val_sparse_categorical_accuracy: 0.5620\n",
      "Epoch 26/100\n",
      "161/161 [==============================] - 49s 275ms/step - loss: 0.8168 - sparse_categorical_accuracy: 0.7244 - val_loss: 2.9959 - val_sparse_categorical_accuracy: 0.3203\n",
      "Epoch 27/100\n",
      "161/161 [==============================] - 49s 276ms/step - loss: 0.8171 - sparse_categorical_accuracy: 0.7224 - val_loss: 1.6207 - val_sparse_categorical_accuracy: 0.5573\n",
      "Epoch 28/100\n",
      "161/161 [==============================] - 53s 271ms/step - loss: 0.8036 - sparse_categorical_accuracy: 0.7249 - val_loss: 2.3647 - val_sparse_categorical_accuracy: 0.3461\n",
      "Epoch 29/100\n",
      "161/161 [==============================] - 49s 278ms/step - loss: 0.7812 - sparse_categorical_accuracy: 0.7305 - val_loss: 0.9775 - val_sparse_categorical_accuracy: 0.6610\n",
      "Epoch 30/100\n",
      "161/161 [==============================] - 50s 276ms/step - loss: 0.8064 - sparse_categorical_accuracy: 0.7247 - val_loss: 1.1659 - val_sparse_categorical_accuracy: 0.6181\n",
      "Epoch 31/100\n",
      "161/161 [==============================] - 53s 272ms/step - loss: 0.7773 - sparse_categorical_accuracy: 0.7319 - val_loss: 0.9317 - val_sparse_categorical_accuracy: 0.7007\n",
      "Epoch 32/100\n",
      "161/161 [==============================] - 49s 276ms/step - loss: 0.7823 - sparse_categorical_accuracy: 0.7287 - val_loss: 0.9805 - val_sparse_categorical_accuracy: 0.6539\n",
      "Epoch 33/100\n",
      "161/161 [==============================] - 49s 274ms/step - loss: 0.7769 - sparse_categorical_accuracy: 0.7339 - val_loss: 1.0899 - val_sparse_categorical_accuracy: 0.6399\n",
      "Epoch 34/100\n",
      "161/161 [==============================] - 51s 268ms/step - loss: 0.7663 - sparse_categorical_accuracy: 0.7373 - val_loss: 1.4470 - val_sparse_categorical_accuracy: 0.5627\n",
      "Epoch 35/100\n",
      "161/161 [==============================] - 48s 273ms/step - loss: 0.7653 - sparse_categorical_accuracy: 0.7384 - val_loss: 2.1384 - val_sparse_categorical_accuracy: 0.3749\n",
      "Epoch 36/100\n",
      "161/161 [==============================] - 48s 273ms/step - loss: 0.7409 - sparse_categorical_accuracy: 0.7469 - val_loss: 0.7673 - val_sparse_categorical_accuracy: 0.7311\n",
      "Epoch 37/100\n",
      "161/161 [==============================] - 50s 273ms/step - loss: 0.7273 - sparse_categorical_accuracy: 0.7485 - val_loss: 1.4171 - val_sparse_categorical_accuracy: 0.5152\n",
      "Epoch 38/100\n",
      "161/161 [==============================] - 49s 276ms/step - loss: 0.7180 - sparse_categorical_accuracy: 0.7541 - val_loss: 1.8219 - val_sparse_categorical_accuracy: 0.5152\n",
      "Epoch 39/100\n",
      "161/161 [==============================] - 49s 274ms/step - loss: 0.7399 - sparse_categorical_accuracy: 0.7434 - val_loss: 1.0280 - val_sparse_categorical_accuracy: 0.6610\n",
      "Epoch 40/100\n",
      "161/161 [==============================] - 50s 271ms/step - loss: 0.7405 - sparse_categorical_accuracy: 0.7456 - val_loss: 3.3947 - val_sparse_categorical_accuracy: 0.2447\n",
      "Epoch 41/100\n",
      "161/161 [==============================] - 48s 271ms/step - loss: 0.7226 - sparse_categorical_accuracy: 0.7493 - val_loss: 0.8498 - val_sparse_categorical_accuracy: 0.7069\n",
      "Epoch 42/100\n",
      "161/161 [==============================] - 48s 270ms/step - loss: 0.7061 - sparse_categorical_accuracy: 0.7582 - val_loss: 1.9547 - val_sparse_categorical_accuracy: 0.5362\n",
      "Epoch 43/100\n",
      "161/161 [==============================] - 49s 270ms/step - loss: 0.7017 - sparse_categorical_accuracy: 0.7548 - val_loss: 0.7844 - val_sparse_categorical_accuracy: 0.7436\n",
      "Epoch 44/100\n",
      "161/161 [==============================] - 49s 270ms/step - loss: 0.6977 - sparse_categorical_accuracy: 0.7599 - val_loss: 1.0792 - val_sparse_categorical_accuracy: 0.6415\n",
      "Epoch 45/100\n",
      "161/161 [==============================] - 48s 273ms/step - loss: 0.7132 - sparse_categorical_accuracy: 0.7563 - val_loss: 1.5954 - val_sparse_categorical_accuracy: 0.5074\n",
      "Epoch 46/100\n",
      "161/161 [==============================] - 49s 272ms/step - loss: 0.7093 - sparse_categorical_accuracy: 0.7600 - val_loss: 1.8599 - val_sparse_categorical_accuracy: 0.5199\n",
      "Epoch 47/100\n",
      "161/161 [==============================] - 50s 273ms/step - loss: 0.7046 - sparse_categorical_accuracy: 0.7545 - val_loss: 0.8363 - val_sparse_categorical_accuracy: 0.7249\n",
      "Epoch 48/100\n",
      "161/161 [==============================] - 48s 272ms/step - loss: 0.6757 - sparse_categorical_accuracy: 0.7664 - val_loss: 1.2181 - val_sparse_categorical_accuracy: 0.6134\n",
      "Epoch 49/100\n",
      "161/161 [==============================] - 48s 272ms/step - loss: 0.6995 - sparse_categorical_accuracy: 0.7604 - val_loss: 2.3907 - val_sparse_categorical_accuracy: 0.3998\n",
      "Epoch 50/100\n",
      "161/161 [==============================] - 50s 274ms/step - loss: 0.6608 - sparse_categorical_accuracy: 0.7768 - val_loss: 1.3598 - val_sparse_categorical_accuracy: 0.6048\n",
      "Epoch 51/100\n",
      "161/161 [==============================] - 48s 271ms/step - loss: 0.6743 - sparse_categorical_accuracy: 0.7661 - val_loss: 0.6956 - val_sparse_categorical_accuracy: 0.7716\n",
      "Epoch 52/100\n",
      "161/161 [==============================] - 49s 276ms/step - loss: 0.6666 - sparse_categorical_accuracy: 0.7750 - val_loss: 0.7336 - val_sparse_categorical_accuracy: 0.7599\n",
      "Epoch 53/100\n",
      "161/161 [==============================] - 50s 276ms/step - loss: 0.6628 - sparse_categorical_accuracy: 0.7699 - val_loss: 0.9649 - val_sparse_categorical_accuracy: 0.6945\n",
      "Epoch 54/100\n",
      "161/161 [==============================] - 50s 275ms/step - loss: 0.6754 - sparse_categorical_accuracy: 0.7741 - val_loss: 1.3796 - val_sparse_categorical_accuracy: 0.5955\n",
      "Epoch 55/100\n",
      "161/161 [==============================] - 50s 277ms/step - loss: 0.6498 - sparse_categorical_accuracy: 0.7710 - val_loss: 0.7828 - val_sparse_categorical_accuracy: 0.7475\n",
      "Epoch 56/100\n",
      "161/161 [==============================] - 53s 277ms/step - loss: 0.6646 - sparse_categorical_accuracy: 0.7702 - val_loss: 1.4786 - val_sparse_categorical_accuracy: 0.5838\n",
      "Epoch 57/100\n",
      "161/161 [==============================] - 52s 281ms/step - loss: 0.6262 - sparse_categorical_accuracy: 0.7848 - val_loss: 0.7463 - val_sparse_categorical_accuracy: 0.7459\n",
      "Epoch 58/100\n",
      "161/161 [==============================] - 50s 280ms/step - loss: 0.6520 - sparse_categorical_accuracy: 0.7772 - val_loss: 2.2631 - val_sparse_categorical_accuracy: 0.4131\n",
      "Epoch 59/100\n",
      "161/161 [==============================] - 51s 266ms/step - loss: 0.6368 - sparse_categorical_accuracy: 0.7792 - val_loss: 0.8586 - val_sparse_categorical_accuracy: 0.7241\n",
      "Epoch 60/100\n",
      "161/161 [==============================] - 50s 273ms/step - loss: 0.6211 - sparse_categorical_accuracy: 0.7851 - val_loss: 1.4786 - val_sparse_categorical_accuracy: 0.5534\n",
      "Epoch 61/100\n",
      "161/161 [==============================] - 49s 276ms/step - loss: 0.6123 - sparse_categorical_accuracy: 0.7871 - val_loss: 2.8210 - val_sparse_categorical_accuracy: 0.3445\n",
      "Epoch 62/100\n",
      "161/161 [==============================] - 50s 276ms/step - loss: 0.6412 - sparse_categorical_accuracy: 0.7784 - val_loss: 1.0710 - val_sparse_categorical_accuracy: 0.6446\n",
      "Epoch 63/100\n",
      "161/161 [==============================] - 50s 273ms/step - loss: 0.6118 - sparse_categorical_accuracy: 0.7913 - val_loss: 0.7893 - val_sparse_categorical_accuracy: 0.7475\n",
      "Epoch 64/100\n",
      "161/161 [==============================] - 49s 278ms/step - loss: 0.6242 - sparse_categorical_accuracy: 0.7888 - val_loss: 0.9755 - val_sparse_categorical_accuracy: 0.6921\n",
      "Epoch 65/100\n",
      "161/161 [==============================] - 49s 274ms/step - loss: 0.5986 - sparse_categorical_accuracy: 0.7953 - val_loss: 1.6172 - val_sparse_categorical_accuracy: 0.5690\n",
      "Epoch 66/100\n",
      "161/161 [==============================] - 50s 276ms/step - loss: 0.6147 - sparse_categorical_accuracy: 0.7892 - val_loss: 0.9030 - val_sparse_categorical_accuracy: 0.7030\n",
      "Epoch 67/100\n",
      "161/161 [==============================] - 49s 275ms/step - loss: 0.5986 - sparse_categorical_accuracy: 0.7974 - val_loss: 1.1420 - val_sparse_categorical_accuracy: 0.6493\n",
      "Epoch 68/100\n",
      "161/161 [==============================] - 49s 275ms/step - loss: 0.6057 - sparse_categorical_accuracy: 0.7899 - val_loss: 0.9465 - val_sparse_categorical_accuracy: 0.6812\n",
      "Epoch 69/100\n",
      "161/161 [==============================] - 51s 276ms/step - loss: 0.5958 - sparse_categorical_accuracy: 0.7963 - val_loss: 1.6274 - val_sparse_categorical_accuracy: 0.5853\n",
      "Epoch 70/100\n",
      "161/161 [==============================] - 50s 281ms/step - loss: 0.6025 - sparse_categorical_accuracy: 0.7916 - val_loss: 0.9563 - val_sparse_categorical_accuracy: 0.6875\n",
      "Epoch 71/100\n",
      "161/161 [==============================] - 49s 275ms/step - loss: 0.6036 - sparse_categorical_accuracy: 0.7908 - val_loss: 1.0008 - val_sparse_categorical_accuracy: 0.6875\n",
      "Epoch 72/100\n",
      "161/161 [==============================] - 51s 278ms/step - loss: 0.5826 - sparse_categorical_accuracy: 0.7982 - val_loss: 0.8391 - val_sparse_categorical_accuracy: 0.7186\n",
      "Epoch 73/100\n",
      "161/161 [==============================] - 50s 276ms/step - loss: 0.5732 - sparse_categorical_accuracy: 0.8012 - val_loss: 1.1976 - val_sparse_categorical_accuracy: 0.6259\n",
      "Epoch 74/100\n",
      "161/161 [==============================] - 50s 282ms/step - loss: 0.5863 - sparse_categorical_accuracy: 0.7955 - val_loss: 1.1251 - val_sparse_categorical_accuracy: 0.6828\n",
      "Epoch 75/100\n",
      "161/161 [==============================] - 50s 276ms/step - loss: 0.5693 - sparse_categorical_accuracy: 0.8015 - val_loss: 1.2653 - val_sparse_categorical_accuracy: 0.6524\n",
      "Epoch 76/100\n",
      "161/161 [==============================] - 52s 276ms/step - loss: 0.5578 - sparse_categorical_accuracy: 0.8104 - val_loss: 0.9586 - val_sparse_categorical_accuracy: 0.7038\n",
      "Epoch 77/100\n",
      "161/161 [==============================] - 50s 279ms/step - loss: 0.6014 - sparse_categorical_accuracy: 0.7945 - val_loss: 0.8310 - val_sparse_categorical_accuracy: 0.7256\n",
      "Epoch 78/100\n",
      "161/161 [==============================] - 50s 276ms/step - loss: 0.5787 - sparse_categorical_accuracy: 0.8019 - val_loss: 1.2619 - val_sparse_categorical_accuracy: 0.5994\n",
      "Epoch 79/100\n",
      "161/161 [==============================] - 51s 278ms/step - loss: 0.5584 - sparse_categorical_accuracy: 0.8061 - val_loss: 2.0204 - val_sparse_categorical_accuracy: 0.4926\n",
      "Epoch 80/100\n",
      "161/161 [==============================] - 50s 282ms/step - loss: 0.5590 - sparse_categorical_accuracy: 0.8048 - val_loss: 0.8950 - val_sparse_categorical_accuracy: 0.7147\n",
      "Epoch 81/100\n",
      "161/161 [==============================] - 49s 275ms/step - loss: 0.5633 - sparse_categorical_accuracy: 0.8061 - val_loss: 0.7532 - val_sparse_categorical_accuracy: 0.7560\n",
      "Epoch 82/100\n",
      "161/161 [==============================] - 51s 278ms/step - loss: 0.5501 - sparse_categorical_accuracy: 0.8086 - val_loss: 1.5603 - val_sparse_categorical_accuracy: 0.5425\n",
      "Epoch 83/100\n",
      "161/161 [==============================] - 49s 276ms/step - loss: 0.5796 - sparse_categorical_accuracy: 0.8013 - val_loss: 1.8995 - val_sparse_categorical_accuracy: 0.5199\n",
      "Epoch 84/100\n",
      "161/161 [==============================] - 49s 274ms/step - loss: 0.5483 - sparse_categorical_accuracy: 0.8136 - val_loss: 2.1464 - val_sparse_categorical_accuracy: 0.4934\n",
      "Epoch 85/100\n",
      "161/161 [==============================] - 51s 276ms/step - loss: 0.5602 - sparse_categorical_accuracy: 0.8076 - val_loss: 0.8916 - val_sparse_categorical_accuracy: 0.7108\n",
      "Epoch 86/100\n",
      "161/161 [==============================] - 49s 276ms/step - loss: 0.5609 - sparse_categorical_accuracy: 0.8089 - val_loss: 0.6638 - val_sparse_categorical_accuracy: 0.7849\n",
      "Epoch 87/100\n",
      "161/161 [==============================] - 49s 276ms/step - loss: 0.5360 - sparse_categorical_accuracy: 0.8169 - val_loss: 0.8952 - val_sparse_categorical_accuracy: 0.7225\n",
      "Epoch 88/100\n",
      "161/161 [==============================] - 51s 280ms/step - loss: 0.5402 - sparse_categorical_accuracy: 0.8114 - val_loss: 0.8773 - val_sparse_categorical_accuracy: 0.7077\n",
      "Epoch 89/100\n",
      "161/161 [==============================] - 50s 279ms/step - loss: 0.5562 - sparse_categorical_accuracy: 0.8100 - val_loss: 1.0630 - val_sparse_categorical_accuracy: 0.6836\n",
      "Epoch 90/100\n",
      "161/161 [==============================] - 49s 278ms/step - loss: 0.5405 - sparse_categorical_accuracy: 0.8124 - val_loss: 0.8545 - val_sparse_categorical_accuracy: 0.7194\n",
      "Epoch 91/100\n",
      "161/161 [==============================] - 50s 278ms/step - loss: 0.5521 - sparse_categorical_accuracy: 0.8100 - val_loss: 0.7049 - val_sparse_categorical_accuracy: 0.7693\n",
      "Epoch 92/100\n",
      "161/161 [==============================] - 51s 279ms/step - loss: 0.5302 - sparse_categorical_accuracy: 0.8178 - val_loss: 2.2560 - val_sparse_categorical_accuracy: 0.4466\n",
      "Epoch 93/100\n",
      "161/161 [==============================] - 49s 276ms/step - loss: 0.5683 - sparse_categorical_accuracy: 0.8046 - val_loss: 1.9825 - val_sparse_categorical_accuracy: 0.4762\n",
      "Epoch 94/100\n",
      "161/161 [==============================] - 49s 277ms/step - loss: 0.5298 - sparse_categorical_accuracy: 0.8146 - val_loss: 1.9838 - val_sparse_categorical_accuracy: 0.4731\n",
      "Epoch 95/100\n",
      "161/161 [==============================] - 51s 277ms/step - loss: 0.5460 - sparse_categorical_accuracy: 0.8089 - val_loss: 0.8109 - val_sparse_categorical_accuracy: 0.7498\n",
      "Epoch 96/100\n",
      "161/161 [==============================] - 49s 278ms/step - loss: 0.5235 - sparse_categorical_accuracy: 0.8190 - val_loss: 0.6379 - val_sparse_categorical_accuracy: 0.7771\n",
      "Epoch 97/100\n",
      "161/161 [==============================] - 50s 278ms/step - loss: 0.5543 - sparse_categorical_accuracy: 0.8090 - val_loss: 1.5466 - val_sparse_categorical_accuracy: 0.5370\n",
      "Epoch 98/100\n",
      "161/161 [==============================] - 51s 279ms/step - loss: 0.5332 - sparse_categorical_accuracy: 0.8188 - val_loss: 1.5069 - val_sparse_categorical_accuracy: 0.5612\n",
      "Epoch 99/100\n",
      "161/161 [==============================] - 50s 277ms/step - loss: 0.5196 - sparse_categorical_accuracy: 0.8210 - val_loss: 0.7149 - val_sparse_categorical_accuracy: 0.7779\n",
      "Epoch 100/100\n",
      "161/161 [==============================] - 51s 280ms/step - loss: 0.5314 - sparse_categorical_accuracy: 0.8168 - val_loss: 1.4108 - val_sparse_categorical_accuracy: 0.5994\n"
     ]
    }
   ],
   "source": [
    "# train model\n",
    "\n",
    "history = model.fit(train_ds, epochs = 50, validation_data = val_ds)"
   ]
  },
  {
   "cell_type": "code",
   "execution_count": null,
   "metadata": {},
   "outputs": [],
   "source": [
    "# save model\n",
    "\n",
    "model.save(\"/path_were_the_model_should_be_saved/model_date_epochnumber.h5\")"
   ]
  },
  {
   "cell_type": "code",
   "execution_count": 18,
   "metadata": {},
   "outputs": [],
   "source": [
    "# set color chart\n",
    "\n",
    "color_chart = [\"#4B9AC7\", \"#4BE8E0\", \"#9DD4F3\", \"#97FBF6\", \"#2A7FAF\", \"#23B1AB\", \"#0E3449\", \"#015955\"]"
   ]
  },
  {
   "cell_type": "code",
   "execution_count": 19,
   "metadata": {},
   "outputs": [
    {
     "data": {
      "application/vnd.plotly.v1+json": {
       "config": {
        "plotlyServerURL": "https://plot.ly"
       },
       "data": [
        {
         "marker": {
          "color": "#4B9AC7"
         },
         "mode": "lines",
         "name": "Training loss",
         "type": "scatter",
         "y": [
          2.106696128845215,
          1.8998503684997559,
          1.7506300210952759,
          1.5839107036590576,
          1.478407621383667,
          1.406166911125183,
          1.2943239212036133,
          1.2479524612426758,
          1.2097467184066772,
          1.1716965436935425,
          1.1435182094573975,
          1.1125704050064087,
          1.096534013748169,
          1.0393069982528687,
          1.0037931203842163,
          0.9706127643585205,
          0.9644877314567566,
          0.9397758841514587,
          0.9032928347587585,
          0.8977019786834717,
          0.8924848437309265,
          0.8690780401229858,
          0.8599235415458679,
          0.8534077405929565,
          0.826378345489502,
          0.8167842626571655,
          0.8170675039291382,
          0.8036012649536133,
          0.781180202960968,
          0.806419849395752,
          0.7773126363754272,
          0.7823043465614319,
          0.7769184708595276,
          0.766270637512207,
          0.7653030753135681,
          0.74085932970047,
          0.7272587418556213,
          0.7180430293083191,
          0.7398671507835388,
          0.7405293583869934,
          0.7226284742355347,
          0.7061090469360352,
          0.7016944885253906,
          0.6976747512817383,
          0.7132080793380737,
          0.7093148827552795,
          0.7045964598655701,
          0.6756994128227234,
          0.6995324492454529,
          0.66077721118927,
          0.6743361353874207,
          0.6665796041488647,
          0.6627832055091858,
          0.675407886505127,
          0.649832546710968,
          0.6646268963813782,
          0.6262394785881042,
          0.6519543528556824,
          0.6367766261100769,
          0.6210700869560242,
          0.6122654676437378,
          0.6411968469619751,
          0.6117740869522095,
          0.6242102384567261,
          0.5986311435699463,
          0.6147010326385498,
          0.5986091494560242,
          0.6056941747665405,
          0.595753014087677,
          0.6025236248970032,
          0.603622317314148,
          0.582581102848053,
          0.5731968879699707,
          0.5862730741500854,
          0.569317102432251,
          0.5578291416168213,
          0.601421058177948,
          0.5786871910095215,
          0.558411717414856,
          0.5589585900306702,
          0.5632592439651489,
          0.5500787496566772,
          0.5795922875404358,
          0.5482875108718872,
          0.5602349638938904,
          0.56086665391922,
          0.5359625220298767,
          0.540213406085968,
          0.5562248826026917,
          0.5405225157737732,
          0.5521085262298584,
          0.5301557779312134,
          0.5682812333106995,
          0.5298417210578918,
          0.546013593673706,
          0.5235028266906738,
          0.554280698299408,
          0.5331928730010986,
          0.5195742249488831,
          0.5314412117004395
         ]
        },
        {
         "marker": {
          "color": "#4BE8E0"
         },
         "mode": "lines",
         "name": "Validation loss",
         "type": "scatter",
         "y": [
          2.059906244277954,
          1.834209680557251,
          2.087413787841797,
          1.606160044670105,
          2.0067808628082275,
          1.3519972562789917,
          1.2943087816238403,
          1.681070327758789,
          1.3784312009811401,
          1.477433681488037,
          1.4555916786193848,
          1.341887354850769,
          2.511866569519043,
          1.5814955234527588,
          1.5395236015319824,
          1.471847414970398,
          3.615966558456421,
          0.8711607456207275,
          1.0569571256637573,
          1.7321223020553589,
          1.7669543027877808,
          1.3263771533966064,
          2.422508716583252,
          1.2441704273223877,
          1.3594534397125244,
          2.99591326713562,
          1.6207098960876465,
          2.3647427558898926,
          0.9775299429893494,
          1.1658676862716675,
          0.9317319393157959,
          0.9804936051368713,
          1.0899007320404053,
          1.4470218420028687,
          2.1384050846099854,
          0.7672643661499023,
          1.4171168804168701,
          1.8218516111373901,
          1.0280380249023438,
          3.3947136402130127,
          0.8498385548591614,
          1.9546737670898438,
          0.7844460606575012,
          1.0791951417922974,
          1.5954408645629883,
          1.859915852546692,
          0.8363377451896667,
          1.2180851697921753,
          2.3907058238983154,
          1.359812617301941,
          0.695576012134552,
          0.733609676361084,
          0.9649142622947693,
          1.3795676231384277,
          0.7827894687652588,
          1.4785841703414917,
          0.7463407516479492,
          2.263085126876831,
          0.8586198091506958,
          1.4785962104797363,
          2.8210015296936035,
          1.0710324048995972,
          0.7892857193946838,
          0.9755184650421143,
          1.6171849966049194,
          0.9030302166938782,
          1.1420100927352905,
          0.9465326070785522,
          1.6273785829544067,
          0.9562717080116272,
          1.0008424520492554,
          0.8391333222389221,
          1.1976103782653809,
          1.125125765800476,
          1.2653260231018066,
          0.9585998058319092,
          0.8309839963912964,
          1.2618520259857178,
          2.020385503768921,
          0.8949927091598511,
          0.7532011866569519,
          1.560341715812683,
          1.8994628190994263,
          2.1464076042175293,
          0.8916396498680115,
          0.6637757420539856,
          0.8952147960662842,
          0.8773161768913269,
          1.063020944595337,
          0.8545271754264832,
          0.7048717737197876,
          2.256014347076416,
          1.9824610948562622,
          1.9838181734085083,
          0.810947060585022,
          0.6379176378250122,
          1.546642541885376,
          1.5068961381912231,
          0.7149155139923096,
          1.410780668258667
         ]
        }
       ],
       "layout": {
        "template": {
         "data": {
          "bar": [
           {
            "error_x": {
             "color": "#2a3f5f"
            },
            "error_y": {
             "color": "#2a3f5f"
            },
            "marker": {
             "line": {
              "color": "#E5ECF6",
              "width": 0.5
             },
             "pattern": {
              "fillmode": "overlay",
              "size": 10,
              "solidity": 0.2
             }
            },
            "type": "bar"
           }
          ],
          "barpolar": [
           {
            "marker": {
             "line": {
              "color": "#E5ECF6",
              "width": 0.5
             },
             "pattern": {
              "fillmode": "overlay",
              "size": 10,
              "solidity": 0.2
             }
            },
            "type": "barpolar"
           }
          ],
          "carpet": [
           {
            "aaxis": {
             "endlinecolor": "#2a3f5f",
             "gridcolor": "white",
             "linecolor": "white",
             "minorgridcolor": "white",
             "startlinecolor": "#2a3f5f"
            },
            "baxis": {
             "endlinecolor": "#2a3f5f",
             "gridcolor": "white",
             "linecolor": "white",
             "minorgridcolor": "white",
             "startlinecolor": "#2a3f5f"
            },
            "type": "carpet"
           }
          ],
          "choropleth": [
           {
            "colorbar": {
             "outlinewidth": 0,
             "ticks": ""
            },
            "type": "choropleth"
           }
          ],
          "contour": [
           {
            "colorbar": {
             "outlinewidth": 0,
             "ticks": ""
            },
            "colorscale": [
             [
              0,
              "#0d0887"
             ],
             [
              0.1111111111111111,
              "#46039f"
             ],
             [
              0.2222222222222222,
              "#7201a8"
             ],
             [
              0.3333333333333333,
              "#9c179e"
             ],
             [
              0.4444444444444444,
              "#bd3786"
             ],
             [
              0.5555555555555556,
              "#d8576b"
             ],
             [
              0.6666666666666666,
              "#ed7953"
             ],
             [
              0.7777777777777778,
              "#fb9f3a"
             ],
             [
              0.8888888888888888,
              "#fdca26"
             ],
             [
              1,
              "#f0f921"
             ]
            ],
            "type": "contour"
           }
          ],
          "contourcarpet": [
           {
            "colorbar": {
             "outlinewidth": 0,
             "ticks": ""
            },
            "type": "contourcarpet"
           }
          ],
          "heatmap": [
           {
            "colorbar": {
             "outlinewidth": 0,
             "ticks": ""
            },
            "colorscale": [
             [
              0,
              "#0d0887"
             ],
             [
              0.1111111111111111,
              "#46039f"
             ],
             [
              0.2222222222222222,
              "#7201a8"
             ],
             [
              0.3333333333333333,
              "#9c179e"
             ],
             [
              0.4444444444444444,
              "#bd3786"
             ],
             [
              0.5555555555555556,
              "#d8576b"
             ],
             [
              0.6666666666666666,
              "#ed7953"
             ],
             [
              0.7777777777777778,
              "#fb9f3a"
             ],
             [
              0.8888888888888888,
              "#fdca26"
             ],
             [
              1,
              "#f0f921"
             ]
            ],
            "type": "heatmap"
           }
          ],
          "heatmapgl": [
           {
            "colorbar": {
             "outlinewidth": 0,
             "ticks": ""
            },
            "colorscale": [
             [
              0,
              "#0d0887"
             ],
             [
              0.1111111111111111,
              "#46039f"
             ],
             [
              0.2222222222222222,
              "#7201a8"
             ],
             [
              0.3333333333333333,
              "#9c179e"
             ],
             [
              0.4444444444444444,
              "#bd3786"
             ],
             [
              0.5555555555555556,
              "#d8576b"
             ],
             [
              0.6666666666666666,
              "#ed7953"
             ],
             [
              0.7777777777777778,
              "#fb9f3a"
             ],
             [
              0.8888888888888888,
              "#fdca26"
             ],
             [
              1,
              "#f0f921"
             ]
            ],
            "type": "heatmapgl"
           }
          ],
          "histogram": [
           {
            "marker": {
             "pattern": {
              "fillmode": "overlay",
              "size": 10,
              "solidity": 0.2
             }
            },
            "type": "histogram"
           }
          ],
          "histogram2d": [
           {
            "colorbar": {
             "outlinewidth": 0,
             "ticks": ""
            },
            "colorscale": [
             [
              0,
              "#0d0887"
             ],
             [
              0.1111111111111111,
              "#46039f"
             ],
             [
              0.2222222222222222,
              "#7201a8"
             ],
             [
              0.3333333333333333,
              "#9c179e"
             ],
             [
              0.4444444444444444,
              "#bd3786"
             ],
             [
              0.5555555555555556,
              "#d8576b"
             ],
             [
              0.6666666666666666,
              "#ed7953"
             ],
             [
              0.7777777777777778,
              "#fb9f3a"
             ],
             [
              0.8888888888888888,
              "#fdca26"
             ],
             [
              1,
              "#f0f921"
             ]
            ],
            "type": "histogram2d"
           }
          ],
          "histogram2dcontour": [
           {
            "colorbar": {
             "outlinewidth": 0,
             "ticks": ""
            },
            "colorscale": [
             [
              0,
              "#0d0887"
             ],
             [
              0.1111111111111111,
              "#46039f"
             ],
             [
              0.2222222222222222,
              "#7201a8"
             ],
             [
              0.3333333333333333,
              "#9c179e"
             ],
             [
              0.4444444444444444,
              "#bd3786"
             ],
             [
              0.5555555555555556,
              "#d8576b"
             ],
             [
              0.6666666666666666,
              "#ed7953"
             ],
             [
              0.7777777777777778,
              "#fb9f3a"
             ],
             [
              0.8888888888888888,
              "#fdca26"
             ],
             [
              1,
              "#f0f921"
             ]
            ],
            "type": "histogram2dcontour"
           }
          ],
          "mesh3d": [
           {
            "colorbar": {
             "outlinewidth": 0,
             "ticks": ""
            },
            "type": "mesh3d"
           }
          ],
          "parcoords": [
           {
            "line": {
             "colorbar": {
              "outlinewidth": 0,
              "ticks": ""
             }
            },
            "type": "parcoords"
           }
          ],
          "pie": [
           {
            "automargin": true,
            "type": "pie"
           }
          ],
          "scatter": [
           {
            "fillpattern": {
             "fillmode": "overlay",
             "size": 10,
             "solidity": 0.2
            },
            "type": "scatter"
           }
          ],
          "scatter3d": [
           {
            "line": {
             "colorbar": {
              "outlinewidth": 0,
              "ticks": ""
             }
            },
            "marker": {
             "colorbar": {
              "outlinewidth": 0,
              "ticks": ""
             }
            },
            "type": "scatter3d"
           }
          ],
          "scattercarpet": [
           {
            "marker": {
             "colorbar": {
              "outlinewidth": 0,
              "ticks": ""
             }
            },
            "type": "scattercarpet"
           }
          ],
          "scattergeo": [
           {
            "marker": {
             "colorbar": {
              "outlinewidth": 0,
              "ticks": ""
             }
            },
            "type": "scattergeo"
           }
          ],
          "scattergl": [
           {
            "marker": {
             "colorbar": {
              "outlinewidth": 0,
              "ticks": ""
             }
            },
            "type": "scattergl"
           }
          ],
          "scattermapbox": [
           {
            "marker": {
             "colorbar": {
              "outlinewidth": 0,
              "ticks": ""
             }
            },
            "type": "scattermapbox"
           }
          ],
          "scatterpolar": [
           {
            "marker": {
             "colorbar": {
              "outlinewidth": 0,
              "ticks": ""
             }
            },
            "type": "scatterpolar"
           }
          ],
          "scatterpolargl": [
           {
            "marker": {
             "colorbar": {
              "outlinewidth": 0,
              "ticks": ""
             }
            },
            "type": "scatterpolargl"
           }
          ],
          "scatterternary": [
           {
            "marker": {
             "colorbar": {
              "outlinewidth": 0,
              "ticks": ""
             }
            },
            "type": "scatterternary"
           }
          ],
          "surface": [
           {
            "colorbar": {
             "outlinewidth": 0,
             "ticks": ""
            },
            "colorscale": [
             [
              0,
              "#0d0887"
             ],
             [
              0.1111111111111111,
              "#46039f"
             ],
             [
              0.2222222222222222,
              "#7201a8"
             ],
             [
              0.3333333333333333,
              "#9c179e"
             ],
             [
              0.4444444444444444,
              "#bd3786"
             ],
             [
              0.5555555555555556,
              "#d8576b"
             ],
             [
              0.6666666666666666,
              "#ed7953"
             ],
             [
              0.7777777777777778,
              "#fb9f3a"
             ],
             [
              0.8888888888888888,
              "#fdca26"
             ],
             [
              1,
              "#f0f921"
             ]
            ],
            "type": "surface"
           }
          ],
          "table": [
           {
            "cells": {
             "fill": {
              "color": "#EBF0F8"
             },
             "line": {
              "color": "white"
             }
            },
            "header": {
             "fill": {
              "color": "#C8D4E3"
             },
             "line": {
              "color": "white"
             }
            },
            "type": "table"
           }
          ]
         },
         "layout": {
          "annotationdefaults": {
           "arrowcolor": "#2a3f5f",
           "arrowhead": 0,
           "arrowwidth": 1
          },
          "autotypenumbers": "strict",
          "coloraxis": {
           "colorbar": {
            "outlinewidth": 0,
            "ticks": ""
           }
          },
          "colorscale": {
           "diverging": [
            [
             0,
             "#8e0152"
            ],
            [
             0.1,
             "#c51b7d"
            ],
            [
             0.2,
             "#de77ae"
            ],
            [
             0.3,
             "#f1b6da"
            ],
            [
             0.4,
             "#fde0ef"
            ],
            [
             0.5,
             "#f7f7f7"
            ],
            [
             0.6,
             "#e6f5d0"
            ],
            [
             0.7,
             "#b8e186"
            ],
            [
             0.8,
             "#7fbc41"
            ],
            [
             0.9,
             "#4d9221"
            ],
            [
             1,
             "#276419"
            ]
           ],
           "sequential": [
            [
             0,
             "#0d0887"
            ],
            [
             0.1111111111111111,
             "#46039f"
            ],
            [
             0.2222222222222222,
             "#7201a8"
            ],
            [
             0.3333333333333333,
             "#9c179e"
            ],
            [
             0.4444444444444444,
             "#bd3786"
            ],
            [
             0.5555555555555556,
             "#d8576b"
            ],
            [
             0.6666666666666666,
             "#ed7953"
            ],
            [
             0.7777777777777778,
             "#fb9f3a"
            ],
            [
             0.8888888888888888,
             "#fdca26"
            ],
            [
             1,
             "#f0f921"
            ]
           ],
           "sequentialminus": [
            [
             0,
             "#0d0887"
            ],
            [
             0.1111111111111111,
             "#46039f"
            ],
            [
             0.2222222222222222,
             "#7201a8"
            ],
            [
             0.3333333333333333,
             "#9c179e"
            ],
            [
             0.4444444444444444,
             "#bd3786"
            ],
            [
             0.5555555555555556,
             "#d8576b"
            ],
            [
             0.6666666666666666,
             "#ed7953"
            ],
            [
             0.7777777777777778,
             "#fb9f3a"
            ],
            [
             0.8888888888888888,
             "#fdca26"
            ],
            [
             1,
             "#f0f921"
            ]
           ]
          },
          "colorway": [
           "#636efa",
           "#EF553B",
           "#00cc96",
           "#ab63fa",
           "#FFA15A",
           "#19d3f3",
           "#FF6692",
           "#B6E880",
           "#FF97FF",
           "#FECB52"
          ],
          "font": {
           "color": "#2a3f5f"
          },
          "geo": {
           "bgcolor": "white",
           "lakecolor": "white",
           "landcolor": "#E5ECF6",
           "showlakes": true,
           "showland": true,
           "subunitcolor": "white"
          },
          "hoverlabel": {
           "align": "left"
          },
          "hovermode": "closest",
          "mapbox": {
           "style": "light"
          },
          "paper_bgcolor": "white",
          "plot_bgcolor": "#E5ECF6",
          "polar": {
           "angularaxis": {
            "gridcolor": "white",
            "linecolor": "white",
            "ticks": ""
           },
           "bgcolor": "#E5ECF6",
           "radialaxis": {
            "gridcolor": "white",
            "linecolor": "white",
            "ticks": ""
           }
          },
          "scene": {
           "xaxis": {
            "backgroundcolor": "#E5ECF6",
            "gridcolor": "white",
            "gridwidth": 2,
            "linecolor": "white",
            "showbackground": true,
            "ticks": "",
            "zerolinecolor": "white"
           },
           "yaxis": {
            "backgroundcolor": "#E5ECF6",
            "gridcolor": "white",
            "gridwidth": 2,
            "linecolor": "white",
            "showbackground": true,
            "ticks": "",
            "zerolinecolor": "white"
           },
           "zaxis": {
            "backgroundcolor": "#E5ECF6",
            "gridcolor": "white",
            "gridwidth": 2,
            "linecolor": "white",
            "showbackground": true,
            "ticks": "",
            "zerolinecolor": "white"
           }
          },
          "shapedefaults": {
           "line": {
            "color": "#2a3f5f"
           }
          },
          "ternary": {
           "aaxis": {
            "gridcolor": "white",
            "linecolor": "white",
            "ticks": ""
           },
           "baxis": {
            "gridcolor": "white",
            "linecolor": "white",
            "ticks": ""
           },
           "bgcolor": "#E5ECF6",
           "caxis": {
            "gridcolor": "white",
            "linecolor": "white",
            "ticks": ""
           }
          },
          "title": {
           "x": 0.05
          },
          "xaxis": {
           "automargin": true,
           "gridcolor": "white",
           "linecolor": "white",
           "ticks": "",
           "title": {
            "standoff": 15
           },
           "zerolinecolor": "white",
           "zerolinewidth": 2
          },
          "yaxis": {
           "automargin": true,
           "gridcolor": "white",
           "linecolor": "white",
           "ticks": "",
           "title": {
            "standoff": 15
           },
           "zerolinecolor": "white",
           "zerolinewidth": 2
          }
         }
        },
        "title": {
         "text": "Training and val loss across epochs"
        },
        "xaxis": {
         "title": {
          "text": "epochs"
         }
        },
        "yaxis": {
         "title": {
          "text": "Cross Entropy"
         }
        }
       }
      }
     },
     "metadata": {},
     "output_type": "display_data"
    }
   ],
   "source": [
    "# plot loss\n",
    "\n",
    "fig = go.Figure(data=[\n",
    "                      go.Scatter(\n",
    "                          y=history.history[\"loss\"],\n",
    "                          name=\"Training loss\",\n",
    "                          mode=\"lines\",\n",
    "                          marker=dict(\n",
    "                              color=color_chart[0]\n",
    "                          )),\n",
    "                      go.Scatter(\n",
    "                          y=history.history[\"val_loss\"],\n",
    "                          name=\"Validation loss\",\n",
    "                          mode=\"lines\",\n",
    "                          marker=dict(\n",
    "                              color=color_chart[1]\n",
    "                          ))\n",
    "])\n",
    "fig.update_layout(\n",
    "    title='Training and val loss across epochs',\n",
    "    xaxis_title='epochs',\n",
    "    yaxis_title='Cross Entropy'    \n",
    ")\n",
    "fig.show()"
   ]
  },
  {
   "cell_type": "code",
   "execution_count": 20,
   "metadata": {},
   "outputs": [
    {
     "data": {
      "application/vnd.plotly.v1+json": {
       "config": {
        "plotlyServerURL": "https://plot.ly"
       },
       "data": [
        {
         "marker": {
          "color": "#2A7FAF"
         },
         "mode": "lines",
         "name": "Training accuracy",
         "type": "scatter",
         "y": [
          0.26327067613601685,
          0.34411221742630005,
          0.40264925360679626,
          0.4684912860393524,
          0.5062822699546814,
          0.5320931077003479,
          0.5655010938644409,
          0.579818844795227,
          0.5956949591636658,
          0.616148829460144,
          0.6178046464920044,
          0.6260835528373718,
          0.634265124797821,
          0.6437128782272339,
          0.6602707505226135,
          0.6725431084632874,
          0.673711895942688,
          0.6854972243309021,
          0.6940683722496033,
          0.6938735842704773,
          0.6964059472084045,
          0.7038083076477051,
          0.706925094127655,
          0.7094574570655823,
          0.7161780595779419,
          0.7243595719337463,
          0.7224116325378418,
          0.724943995475769,
          0.7304957509040833,
          0.7247492074966431,
          0.7318593263626099,
          0.7287425994873047,
          0.7339047193527222,
          0.7373137474060059,
          0.7383851408958435,
          0.7468588948249817,
          0.7485146522521973,
          0.7540664076805115,
          0.743352472782135,
          0.7455926537513733,
          0.749293863773346,
          0.7581571936607361,
          0.7548456192016602,
          0.7599104046821594,
          0.7563065886497498,
          0.7600077986717224,
          0.7544560432434082,
          0.7664361596107483,
          0.7603973746299744,
          0.7767605185508728,
          0.7661439776420593,
          0.7750073075294495,
          0.7699425220489502,
          0.7741307020187378,
          0.7710139155387878,
          0.7702347040176392,
          0.7848446369171143,
          0.7771500945091248,
          0.7791954874992371,
          0.7851368188858032,
          0.7870848178863525,
          0.7784162759780884,
          0.7912729978561401,
          0.7888380289077759,
          0.7952663898468018,
          0.7892276048660278,
          0.797409176826477,
          0.7899094223976135,
          0.7963377833366394,
          0.7915651798248291,
          0.7907860279083252,
          0.7981883883476257,
          0.8012077808380127,
          0.7954611778259277,
          0.8014999628067017,
          0.8103632926940918,
          0.7944871783256531,
          0.8018895387649536,
          0.8060777187347412,
          0.8048115372657776,
          0.8060777187347412,
          0.8086100816726685,
          0.8013051748275757,
          0.8135774731636047,
          0.8076361417770386,
          0.8089023232460022,
          0.8168890476226807,
          0.8114346861839294,
          0.8099737167358398,
          0.8124086856842041,
          0.8099737167358398,
          0.8177656531333923,
          0.8046167492866516,
          0.8145514726638794,
          0.8089023232460022,
          0.819031834602356,
          0.8089997172355652,
          0.81883704662323,
          0.8209798336029053,
          0.8167916536331177
         ]
        },
        {
         "marker": {
          "color": "#23B1AB"
         },
         "mode": "lines",
         "name": "Validation accruracy",
         "type": "scatter",
         "y": [
          0.2712392807006836,
          0.37022602558135986,
          0.2813717722892761,
          0.46453624963760376,
          0.3904910385608673,
          0.5378020405769348,
          0.5604053139686584,
          0.41075605154037476,
          0.5494933724403381,
          0.5292283892631531,
          0.537022590637207,
          0.5424785614013672,
          0.29072487354278564,
          0.4840218126773834,
          0.49493375420570374,
          0.5323460698127747,
          0.31722524762153625,
          0.7022603154182434,
          0.6484801173210144,
          0.49493375420570374,
          0.4466094970703125,
          0.5744349360466003,
          0.4169914126396179,
          0.5720966458320618,
          0.5619641542434692,
          0.3203429579734802,
          0.5572876334190369,
          0.34606391191482544,
          0.6609508991241455,
          0.6180826425552368,
          0.7007014751434326,
          0.6539360880851746,
          0.6399064660072327,
          0.5627435445785522,
          0.3749025762081146,
          0.731099009513855,
          0.5151987671852112,
          0.5151987671852112,
          0.6609508991241455,
          0.2447388917207718,
          0.7069368958473206,
          0.536243200302124,
          0.7435697317123413,
          0.6414653062820435,
          0.5074045062065125,
          0.5198752880096436,
          0.724863588809967,
          0.6134060621261597,
          0.39984411001205444,
          0.6048324108123779,
          0.7716289758682251,
          0.7599376440048218,
          0.6944661140441895,
          0.5954793691635132,
          0.7474668622016907,
          0.5837879776954651,
          0.7459080219268799,
          0.41309431195259094,
          0.724084198474884,
          0.5533905029296875,
          0.34450507164001465,
          0.644582986831665,
          0.7474668622016907,
          0.6921278238296509,
          0.5689789652824402,
          0.7030397653579712,
          0.6492595672607422,
          0.6812158823013306,
          0.5853468179702759,
          0.6874513030052185,
          0.6874513030052185,
          0.7186282277107239,
          0.6258768439292908,
          0.6827747225761414,
          0.6523772478103638,
          0.7038191556930542,
          0.7256430387496948,
          0.5993764400482178,
          0.49259549379348755,
          0.7147310972213745,
          0.7560405135154724,
          0.5424785614013672,
          0.5198752880096436,
          0.49337491393089294,
          0.7108339667320251,
          0.784879207611084,
          0.7225253582000732,
          0.7077162861824036,
          0.6835541725158691,
          0.7194076180458069,
          0.7692907452583313,
          0.4466094970703125,
          0.4762275815010071,
          0.4731099009513855,
          0.7498051524162292,
          0.7770849466323853,
          0.537022590637207,
          0.5611847043037415,
          0.777864396572113,
          0.5993764400482178
         ]
        }
       ],
       "layout": {
        "template": {
         "data": {
          "bar": [
           {
            "error_x": {
             "color": "#2a3f5f"
            },
            "error_y": {
             "color": "#2a3f5f"
            },
            "marker": {
             "line": {
              "color": "#E5ECF6",
              "width": 0.5
             },
             "pattern": {
              "fillmode": "overlay",
              "size": 10,
              "solidity": 0.2
             }
            },
            "type": "bar"
           }
          ],
          "barpolar": [
           {
            "marker": {
             "line": {
              "color": "#E5ECF6",
              "width": 0.5
             },
             "pattern": {
              "fillmode": "overlay",
              "size": 10,
              "solidity": 0.2
             }
            },
            "type": "barpolar"
           }
          ],
          "carpet": [
           {
            "aaxis": {
             "endlinecolor": "#2a3f5f",
             "gridcolor": "white",
             "linecolor": "white",
             "minorgridcolor": "white",
             "startlinecolor": "#2a3f5f"
            },
            "baxis": {
             "endlinecolor": "#2a3f5f",
             "gridcolor": "white",
             "linecolor": "white",
             "minorgridcolor": "white",
             "startlinecolor": "#2a3f5f"
            },
            "type": "carpet"
           }
          ],
          "choropleth": [
           {
            "colorbar": {
             "outlinewidth": 0,
             "ticks": ""
            },
            "type": "choropleth"
           }
          ],
          "contour": [
           {
            "colorbar": {
             "outlinewidth": 0,
             "ticks": ""
            },
            "colorscale": [
             [
              0,
              "#0d0887"
             ],
             [
              0.1111111111111111,
              "#46039f"
             ],
             [
              0.2222222222222222,
              "#7201a8"
             ],
             [
              0.3333333333333333,
              "#9c179e"
             ],
             [
              0.4444444444444444,
              "#bd3786"
             ],
             [
              0.5555555555555556,
              "#d8576b"
             ],
             [
              0.6666666666666666,
              "#ed7953"
             ],
             [
              0.7777777777777778,
              "#fb9f3a"
             ],
             [
              0.8888888888888888,
              "#fdca26"
             ],
             [
              1,
              "#f0f921"
             ]
            ],
            "type": "contour"
           }
          ],
          "contourcarpet": [
           {
            "colorbar": {
             "outlinewidth": 0,
             "ticks": ""
            },
            "type": "contourcarpet"
           }
          ],
          "heatmap": [
           {
            "colorbar": {
             "outlinewidth": 0,
             "ticks": ""
            },
            "colorscale": [
             [
              0,
              "#0d0887"
             ],
             [
              0.1111111111111111,
              "#46039f"
             ],
             [
              0.2222222222222222,
              "#7201a8"
             ],
             [
              0.3333333333333333,
              "#9c179e"
             ],
             [
              0.4444444444444444,
              "#bd3786"
             ],
             [
              0.5555555555555556,
              "#d8576b"
             ],
             [
              0.6666666666666666,
              "#ed7953"
             ],
             [
              0.7777777777777778,
              "#fb9f3a"
             ],
             [
              0.8888888888888888,
              "#fdca26"
             ],
             [
              1,
              "#f0f921"
             ]
            ],
            "type": "heatmap"
           }
          ],
          "heatmapgl": [
           {
            "colorbar": {
             "outlinewidth": 0,
             "ticks": ""
            },
            "colorscale": [
             [
              0,
              "#0d0887"
             ],
             [
              0.1111111111111111,
              "#46039f"
             ],
             [
              0.2222222222222222,
              "#7201a8"
             ],
             [
              0.3333333333333333,
              "#9c179e"
             ],
             [
              0.4444444444444444,
              "#bd3786"
             ],
             [
              0.5555555555555556,
              "#d8576b"
             ],
             [
              0.6666666666666666,
              "#ed7953"
             ],
             [
              0.7777777777777778,
              "#fb9f3a"
             ],
             [
              0.8888888888888888,
              "#fdca26"
             ],
             [
              1,
              "#f0f921"
             ]
            ],
            "type": "heatmapgl"
           }
          ],
          "histogram": [
           {
            "marker": {
             "pattern": {
              "fillmode": "overlay",
              "size": 10,
              "solidity": 0.2
             }
            },
            "type": "histogram"
           }
          ],
          "histogram2d": [
           {
            "colorbar": {
             "outlinewidth": 0,
             "ticks": ""
            },
            "colorscale": [
             [
              0,
              "#0d0887"
             ],
             [
              0.1111111111111111,
              "#46039f"
             ],
             [
              0.2222222222222222,
              "#7201a8"
             ],
             [
              0.3333333333333333,
              "#9c179e"
             ],
             [
              0.4444444444444444,
              "#bd3786"
             ],
             [
              0.5555555555555556,
              "#d8576b"
             ],
             [
              0.6666666666666666,
              "#ed7953"
             ],
             [
              0.7777777777777778,
              "#fb9f3a"
             ],
             [
              0.8888888888888888,
              "#fdca26"
             ],
             [
              1,
              "#f0f921"
             ]
            ],
            "type": "histogram2d"
           }
          ],
          "histogram2dcontour": [
           {
            "colorbar": {
             "outlinewidth": 0,
             "ticks": ""
            },
            "colorscale": [
             [
              0,
              "#0d0887"
             ],
             [
              0.1111111111111111,
              "#46039f"
             ],
             [
              0.2222222222222222,
              "#7201a8"
             ],
             [
              0.3333333333333333,
              "#9c179e"
             ],
             [
              0.4444444444444444,
              "#bd3786"
             ],
             [
              0.5555555555555556,
              "#d8576b"
             ],
             [
              0.6666666666666666,
              "#ed7953"
             ],
             [
              0.7777777777777778,
              "#fb9f3a"
             ],
             [
              0.8888888888888888,
              "#fdca26"
             ],
             [
              1,
              "#f0f921"
             ]
            ],
            "type": "histogram2dcontour"
           }
          ],
          "mesh3d": [
           {
            "colorbar": {
             "outlinewidth": 0,
             "ticks": ""
            },
            "type": "mesh3d"
           }
          ],
          "parcoords": [
           {
            "line": {
             "colorbar": {
              "outlinewidth": 0,
              "ticks": ""
             }
            },
            "type": "parcoords"
           }
          ],
          "pie": [
           {
            "automargin": true,
            "type": "pie"
           }
          ],
          "scatter": [
           {
            "fillpattern": {
             "fillmode": "overlay",
             "size": 10,
             "solidity": 0.2
            },
            "type": "scatter"
           }
          ],
          "scatter3d": [
           {
            "line": {
             "colorbar": {
              "outlinewidth": 0,
              "ticks": ""
             }
            },
            "marker": {
             "colorbar": {
              "outlinewidth": 0,
              "ticks": ""
             }
            },
            "type": "scatter3d"
           }
          ],
          "scattercarpet": [
           {
            "marker": {
             "colorbar": {
              "outlinewidth": 0,
              "ticks": ""
             }
            },
            "type": "scattercarpet"
           }
          ],
          "scattergeo": [
           {
            "marker": {
             "colorbar": {
              "outlinewidth": 0,
              "ticks": ""
             }
            },
            "type": "scattergeo"
           }
          ],
          "scattergl": [
           {
            "marker": {
             "colorbar": {
              "outlinewidth": 0,
              "ticks": ""
             }
            },
            "type": "scattergl"
           }
          ],
          "scattermapbox": [
           {
            "marker": {
             "colorbar": {
              "outlinewidth": 0,
              "ticks": ""
             }
            },
            "type": "scattermapbox"
           }
          ],
          "scatterpolar": [
           {
            "marker": {
             "colorbar": {
              "outlinewidth": 0,
              "ticks": ""
             }
            },
            "type": "scatterpolar"
           }
          ],
          "scatterpolargl": [
           {
            "marker": {
             "colorbar": {
              "outlinewidth": 0,
              "ticks": ""
             }
            },
            "type": "scatterpolargl"
           }
          ],
          "scatterternary": [
           {
            "marker": {
             "colorbar": {
              "outlinewidth": 0,
              "ticks": ""
             }
            },
            "type": "scatterternary"
           }
          ],
          "surface": [
           {
            "colorbar": {
             "outlinewidth": 0,
             "ticks": ""
            },
            "colorscale": [
             [
              0,
              "#0d0887"
             ],
             [
              0.1111111111111111,
              "#46039f"
             ],
             [
              0.2222222222222222,
              "#7201a8"
             ],
             [
              0.3333333333333333,
              "#9c179e"
             ],
             [
              0.4444444444444444,
              "#bd3786"
             ],
             [
              0.5555555555555556,
              "#d8576b"
             ],
             [
              0.6666666666666666,
              "#ed7953"
             ],
             [
              0.7777777777777778,
              "#fb9f3a"
             ],
             [
              0.8888888888888888,
              "#fdca26"
             ],
             [
              1,
              "#f0f921"
             ]
            ],
            "type": "surface"
           }
          ],
          "table": [
           {
            "cells": {
             "fill": {
              "color": "#EBF0F8"
             },
             "line": {
              "color": "white"
             }
            },
            "header": {
             "fill": {
              "color": "#C8D4E3"
             },
             "line": {
              "color": "white"
             }
            },
            "type": "table"
           }
          ]
         },
         "layout": {
          "annotationdefaults": {
           "arrowcolor": "#2a3f5f",
           "arrowhead": 0,
           "arrowwidth": 1
          },
          "autotypenumbers": "strict",
          "coloraxis": {
           "colorbar": {
            "outlinewidth": 0,
            "ticks": ""
           }
          },
          "colorscale": {
           "diverging": [
            [
             0,
             "#8e0152"
            ],
            [
             0.1,
             "#c51b7d"
            ],
            [
             0.2,
             "#de77ae"
            ],
            [
             0.3,
             "#f1b6da"
            ],
            [
             0.4,
             "#fde0ef"
            ],
            [
             0.5,
             "#f7f7f7"
            ],
            [
             0.6,
             "#e6f5d0"
            ],
            [
             0.7,
             "#b8e186"
            ],
            [
             0.8,
             "#7fbc41"
            ],
            [
             0.9,
             "#4d9221"
            ],
            [
             1,
             "#276419"
            ]
           ],
           "sequential": [
            [
             0,
             "#0d0887"
            ],
            [
             0.1111111111111111,
             "#46039f"
            ],
            [
             0.2222222222222222,
             "#7201a8"
            ],
            [
             0.3333333333333333,
             "#9c179e"
            ],
            [
             0.4444444444444444,
             "#bd3786"
            ],
            [
             0.5555555555555556,
             "#d8576b"
            ],
            [
             0.6666666666666666,
             "#ed7953"
            ],
            [
             0.7777777777777778,
             "#fb9f3a"
            ],
            [
             0.8888888888888888,
             "#fdca26"
            ],
            [
             1,
             "#f0f921"
            ]
           ],
           "sequentialminus": [
            [
             0,
             "#0d0887"
            ],
            [
             0.1111111111111111,
             "#46039f"
            ],
            [
             0.2222222222222222,
             "#7201a8"
            ],
            [
             0.3333333333333333,
             "#9c179e"
            ],
            [
             0.4444444444444444,
             "#bd3786"
            ],
            [
             0.5555555555555556,
             "#d8576b"
            ],
            [
             0.6666666666666666,
             "#ed7953"
            ],
            [
             0.7777777777777778,
             "#fb9f3a"
            ],
            [
             0.8888888888888888,
             "#fdca26"
            ],
            [
             1,
             "#f0f921"
            ]
           ]
          },
          "colorway": [
           "#636efa",
           "#EF553B",
           "#00cc96",
           "#ab63fa",
           "#FFA15A",
           "#19d3f3",
           "#FF6692",
           "#B6E880",
           "#FF97FF",
           "#FECB52"
          ],
          "font": {
           "color": "#2a3f5f"
          },
          "geo": {
           "bgcolor": "white",
           "lakecolor": "white",
           "landcolor": "#E5ECF6",
           "showlakes": true,
           "showland": true,
           "subunitcolor": "white"
          },
          "hoverlabel": {
           "align": "left"
          },
          "hovermode": "closest",
          "mapbox": {
           "style": "light"
          },
          "paper_bgcolor": "white",
          "plot_bgcolor": "#E5ECF6",
          "polar": {
           "angularaxis": {
            "gridcolor": "white",
            "linecolor": "white",
            "ticks": ""
           },
           "bgcolor": "#E5ECF6",
           "radialaxis": {
            "gridcolor": "white",
            "linecolor": "white",
            "ticks": ""
           }
          },
          "scene": {
           "xaxis": {
            "backgroundcolor": "#E5ECF6",
            "gridcolor": "white",
            "gridwidth": 2,
            "linecolor": "white",
            "showbackground": true,
            "ticks": "",
            "zerolinecolor": "white"
           },
           "yaxis": {
            "backgroundcolor": "#E5ECF6",
            "gridcolor": "white",
            "gridwidth": 2,
            "linecolor": "white",
            "showbackground": true,
            "ticks": "",
            "zerolinecolor": "white"
           },
           "zaxis": {
            "backgroundcolor": "#E5ECF6",
            "gridcolor": "white",
            "gridwidth": 2,
            "linecolor": "white",
            "showbackground": true,
            "ticks": "",
            "zerolinecolor": "white"
           }
          },
          "shapedefaults": {
           "line": {
            "color": "#2a3f5f"
           }
          },
          "ternary": {
           "aaxis": {
            "gridcolor": "white",
            "linecolor": "white",
            "ticks": ""
           },
           "baxis": {
            "gridcolor": "white",
            "linecolor": "white",
            "ticks": ""
           },
           "bgcolor": "#E5ECF6",
           "caxis": {
            "gridcolor": "white",
            "linecolor": "white",
            "ticks": ""
           }
          },
          "title": {
           "x": 0.05
          },
          "xaxis": {
           "automargin": true,
           "gridcolor": "white",
           "linecolor": "white",
           "ticks": "",
           "title": {
            "standoff": 15
           },
           "zerolinecolor": "white",
           "zerolinewidth": 2
          },
          "yaxis": {
           "automargin": true,
           "gridcolor": "white",
           "linecolor": "white",
           "ticks": "",
           "title": {
            "standoff": 15
           },
           "zerolinecolor": "white",
           "zerolinewidth": 2
          }
         }
        },
        "title": {
         "text": "Training and val accuracy across epochs"
        },
        "xaxis": {
         "title": {
          "text": "epochs"
         }
        },
        "yaxis": {
         "title": {
          "text": "Accuracy"
         }
        }
       }
      }
     },
     "metadata": {},
     "output_type": "display_data"
    }
   ],
   "source": [
    "# plot accuracy\n",
    "\n",
    "fig = go.Figure(data=[\n",
    "                      go.Scatter(\n",
    "                          y=history.history[\"sparse_categorical_accuracy\"],\n",
    "                          name=\"Training accuracy\",\n",
    "                          mode=\"lines\",\n",
    "                          marker=dict(\n",
    "                              color=color_chart[4]\n",
    "                          )),\n",
    "                      go.Scatter(\n",
    "                          y=history.history[\"val_sparse_categorical_accuracy\"],\n",
    "                          name=\"Validation accruracy\",\n",
    "                          mode=\"lines\",\n",
    "                          marker=dict(\n",
    "                              color=color_chart[5]\n",
    "                          ))\n",
    "])\n",
    "fig.update_layout(\n",
    "    title='Training and val accuracy across epochs',\n",
    "    xaxis_title='epochs',\n",
    "    yaxis_title='Accuracy'    \n",
    ")\n",
    "fig.show()"
   ]
  },
  {
   "cell_type": "code",
   "execution_count": null,
   "metadata": {},
   "outputs": [],
   "source": []
  }
 ],
 "metadata": {
  "kernelspec": {
   "display_name": "base",
   "language": "python",
   "name": "python3"
  },
  "language_info": {
   "codemirror_mode": {
    "name": "ipython",
    "version": 3
   },
   "file_extension": ".py",
   "mimetype": "text/x-python",
   "name": "python",
   "nbconvert_exporter": "python",
   "pygments_lexer": "ipython3",
   "version": "3.9.13"
  },
  "orig_nbformat": 4,
  "vscode": {
   "interpreter": {
    "hash": "6274bd53ad02975ad3a1fc7c53468a83b5e714d6ade680c552f31a0436ec5d39"
   }
  }
 },
 "nbformat": 4,
 "nbformat_minor": 2
}
